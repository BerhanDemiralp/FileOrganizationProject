{
  "cells": [
    {
      "cell_type": "markdown",
      "metadata": {
        "id": "view-in-github",
        "colab_type": "text"
      },
      "source": [
        "<a href=\"https://colab.research.google.com/github/BerhanDemiralp/FileOrganizationProject/blob/master/ImageCaptioning.ipynb\" target=\"_parent\"><img src=\"https://colab.research.google.com/assets/colab-badge.svg\" alt=\"Open In Colab\"/></a>"
      ]
    },
    {
      "cell_type": "markdown",
      "metadata": {
        "id": "DXqu_fCQXeFL"
      },
      "source": [
        "# Setting of Project and Downloading Data"
      ]
    },
    {
      "cell_type": "markdown",
      "source": [
        "Make suitable for GitHub"
      ],
      "metadata": {
        "id": "cs9Utak74dBH"
      }
    },
    {
      "cell_type": "code",
      "source": [
        "import nbformat\n",
        "\n",
        "input_path = \"ImageCaptioning.ipynb\"\n",
        "output_path = \"ImageCaptioning_new.ipynb\"\n",
        "\n",
        "with open(input_path, \"r\", encoding=\"utf-8\") as f:\n",
        "    nb = nbformat.read(f, as_version=4)\n",
        "\n",
        "# widgets metadata'sını temizle\n",
        "if \"widgets\" in nb.metadata:\n",
        "    del nb.metadata[\"widgets\"]\n",
        "\n",
        "# Temiz kopyayı kaydet\n",
        "with open(output_path, \"w\", encoding=\"utf-8\") as f:\n",
        "    nbformat.write(nb, f)\n",
        "\n",
        "print(f\"✅ Temiz notebook kaydedildi: {output_path}\")\n"
      ],
      "metadata": {
        "colab": {
          "base_uri": "https://localhost:8080/",
          "height": 211
        },
        "id": "li1wYsfCzmpT",
        "outputId": "cf18cf2b-1b5a-420a-cbc5-fe5a4e56b000"
      },
      "execution_count": 23,
      "outputs": [
        {
          "output_type": "error",
          "ename": "FileNotFoundError",
          "evalue": "[Errno 2] No such file or directory: 'ImageCaptioning.ipynb'",
          "traceback": [
            "\u001b[0;31m---------------------------------------------------------------------------\u001b[0m",
            "\u001b[0;31mFileNotFoundError\u001b[0m                         Traceback (most recent call last)",
            "\u001b[0;32m<ipython-input-23-6024438d0ca9>\u001b[0m in \u001b[0;36m<cell line: 0>\u001b[0;34m()\u001b[0m\n\u001b[1;32m      4\u001b[0m \u001b[0moutput_path\u001b[0m \u001b[0;34m=\u001b[0m \u001b[0;34m\"ImageCaptioning_new.ipynb\"\u001b[0m\u001b[0;34m\u001b[0m\u001b[0;34m\u001b[0m\u001b[0m\n\u001b[1;32m      5\u001b[0m \u001b[0;34m\u001b[0m\u001b[0m\n\u001b[0;32m----> 6\u001b[0;31m \u001b[0;32mwith\u001b[0m \u001b[0mopen\u001b[0m\u001b[0;34m(\u001b[0m\u001b[0minput_path\u001b[0m\u001b[0;34m,\u001b[0m \u001b[0;34m\"r\"\u001b[0m\u001b[0;34m,\u001b[0m \u001b[0mencoding\u001b[0m\u001b[0;34m=\u001b[0m\u001b[0;34m\"utf-8\"\u001b[0m\u001b[0;34m)\u001b[0m \u001b[0;32mas\u001b[0m \u001b[0mf\u001b[0m\u001b[0;34m:\u001b[0m\u001b[0;34m\u001b[0m\u001b[0;34m\u001b[0m\u001b[0m\n\u001b[0m\u001b[1;32m      7\u001b[0m     \u001b[0mnb\u001b[0m \u001b[0;34m=\u001b[0m \u001b[0mnbformat\u001b[0m\u001b[0;34m.\u001b[0m\u001b[0mread\u001b[0m\u001b[0;34m(\u001b[0m\u001b[0mf\u001b[0m\u001b[0;34m,\u001b[0m \u001b[0mas_version\u001b[0m\u001b[0;34m=\u001b[0m\u001b[0;36m4\u001b[0m\u001b[0;34m)\u001b[0m\u001b[0;34m\u001b[0m\u001b[0;34m\u001b[0m\u001b[0m\n\u001b[1;32m      8\u001b[0m \u001b[0;34m\u001b[0m\u001b[0m\n",
            "\u001b[0;31mFileNotFoundError\u001b[0m: [Errno 2] No such file or directory: 'ImageCaptioning.ipynb'"
          ]
        }
      ]
    },
    {
      "cell_type": "code",
      "source": [
        "# !pip install kaggle\n",
        "# from google.colab import files\n",
        "# files.upload()  # Burada kaggle.json dosyasını seç"
      ],
      "metadata": {
        "collapsed": true,
        "id": "HwUi2NUfuz-o"
      },
      "execution_count": null,
      "outputs": []
    },
    {
      "cell_type": "code",
      "source": [
        "# !mkdir -p ~/.kaggle\n",
        "# !cp kaggle.json ~/.kaggle/\n",
        "# !chmod 600 ~/.kaggle/kaggle.json\n",
        "# !kaggle competitions download -c obss-intern-competition-2025"
      ],
      "metadata": {
        "id": "TeZNbe4Hu5kS"
      },
      "execution_count": null,
      "outputs": []
    },
    {
      "cell_type": "code",
      "source": [
        "# import zipfile\n",
        "\n",
        "# with zipfile.ZipFile(\"obss-intern-competition-2025.zip\", \"r\") as zip_ref:\n",
        "#     zip_ref.extractall()"
      ],
      "metadata": {
        "id": "5xNdc--Uu-Ui"
      },
      "execution_count": null,
      "outputs": []
    },
    {
      "cell_type": "code",
      "source": [
        "# !mv train/train/* train/\n",
        "# !mv test/test/* test/"
      ],
      "metadata": {
        "id": "mu1MiJfqvVZ5"
      },
      "execution_count": null,
      "outputs": []
    },
    {
      "cell_type": "code",
      "source": [
        "# from google.colab import drive\n",
        "# drive.mount('/content/drive')"
      ],
      "metadata": {
        "id": "Oa7l7cWYuuJL"
      },
      "execution_count": null,
      "outputs": []
    },
    {
      "cell_type": "code",
      "execution_count": null,
      "metadata": {
        "id": "gDjZCdjhYscC"
      },
      "outputs": [],
      "source": [
        "import os\n",
        "# Klasör yolları\n",
        "train_dir = \"train\"\n",
        "test_dir = \"test\"\n",
        "\n",
        "# .jpg uzantılı dosyaları say\n",
        "num_train_images = len([f for f in os.listdir(train_dir) if f.endswith(\".jpg\")])\n",
        "num_test_images = len([f for f in os.listdir(test_dir) if f.endswith(\".jpg\")])\n",
        "\n",
        "print(f\"📸 train klasöründe {num_train_images} adet .jpg dosyası var.\")\n",
        "print(f\"🧪 test klasöründe {num_test_images} adet .jpg dosyası var.\")\n"
      ]
    },
    {
      "cell_type": "markdown",
      "metadata": {
        "id": "pH_Cm2p1mTGT"
      },
      "source": [
        "# ✅ Model bileşenlerini yükle\n"
      ]
    },
    {
      "cell_type": "code",
      "execution_count": null,
      "metadata": {
        "collapsed": true,
        "id": "vRUcnmvvmSRl"
      },
      "outputs": [],
      "source": [
        "from sentence_transformers import SentenceTransformer\n",
        "from transformers import VisionEncoderDecoderModel, ViTImageProcessor, AutoTokenizer\n",
        "from PIL import Image\n",
        "import pandas as pd\n",
        "import os\n",
        "from tqdm import tqdm\n",
        "import torch\n",
        "import numpy as np\n",
        "from numpy import cov, trace, iscomplexobj\n",
        "from scipy.linalg import sqrtm\n",
        "\n",
        "device = \"cuda\" if torch.cuda.is_available() else \"cpu\"\n",
        "\n",
        "model_name = \"nlpconnect/vit-gpt2-image-captioning\"\n",
        "model = VisionEncoderDecoderModel.from_pretrained(model_name).to(device)\n",
        "feature_extractor = ViTImageProcessor.from_pretrained(model_name)\n",
        "tokenizer = AutoTokenizer.from_pretrained(model_name)"
      ]
    },
    {
      "cell_type": "markdown",
      "metadata": {
        "id": "DqDrR3UPmdSQ"
      },
      "source": [
        "Evaluation Metric\n"
      ]
    },
    {
      "cell_type": "code",
      "execution_count": null,
      "metadata": {
        "id": "RsKTTJiWmcc9"
      },
      "outputs": [],
      "source": [
        "def calculate_fgd(solution_embed: np.ndarray, submission_embed: np.ndarray) -> float:\n",
        "    fgd_list = []\n",
        "    for _idx, (sol_emb_sample, sub_emb_sample) in enumerate(zip(solution_embed, submission_embed)):\n",
        "        sol_emb_sample_rshaped = sol_emb_sample.reshape((1, 384))\n",
        "        sub_emb_sample_rshaped = sub_emb_sample.reshape((1, 384))\n",
        "        e1 = np.concatenate([sol_emb_sample_rshaped, sol_emb_sample_rshaped])\n",
        "        e2 = np.concatenate([sub_emb_sample_rshaped, sub_emb_sample_rshaped])\n",
        "\n",
        "        mu1, sigma1 = e1.mean(axis=0), cov(e1, rowvar=False)\n",
        "        mu2, sigma2 = e2.mean(axis=0), cov(e2, rowvar=False)\n",
        "        ssdiff = np.sum((mu1 - mu2) ** 2.0)\n",
        "        covmean = sqrtm(sigma1.dot(sigma2))\n",
        "        if iscomplexobj(covmean):\n",
        "            covmean = covmean.real\n",
        "        fgd = ssdiff + trace(sigma1 + sigma2 - 2.0 * covmean)\n",
        "        fgd_list.append(fgd)\n",
        "        if _idx % 25 == 0:\n",
        "            print(f\"Processed {_idx}/{len(solution_embed)} samples\", end=\"\\r\")\n",
        "    return float(np.mean(fgd_list))"
      ]
    },
    {
      "cell_type": "code",
      "execution_count": null,
      "metadata": {
        "collapsed": true,
        "id": "UEOwoyBjjbEO"
      },
      "outputs": [],
      "source": [
        "# ✅ 500 örneklik veri al\n",
        "train_df = pd.read_csv(\"train.csv\").sample(n=500, random_state=42).reset_index(drop=True)\n",
        "ground_truth_captions = list(train_df[\"caption\"])\n",
        "\n",
        "# ✅ Model caption üretimi\n",
        "generated_captions = []\n",
        "\n",
        "for image_id in tqdm(train_df[\"image_id\"]):\n",
        "    image_path = os.path.join(\"train\", str(image_id))\n",
        "    if not image_path.endswith(\".jpg\"):\n",
        "        image_path += \".jpg\"\n",
        "    image = Image.open(image_path).convert(\"RGB\")\n",
        "    pixel_values = feature_extractor(images=image, return_tensors=\"pt\").pixel_values.to(device)\n",
        "\n",
        "    output_ids = model.generate(pixel_values, max_length=12, num_beams=1)\n",
        "    caption = tokenizer.decode(output_ids[0], skip_special_tokens=True).strip()\n",
        "    generated_captions.append(caption)\n",
        "\n",
        "# ✅ Embed işlemi\n",
        "embed_model = SentenceTransformer(\"thenlper/gte-small\")\n",
        "\n",
        "embed_truth = embed_model.encode(ground_truth_captions, convert_to_numpy=True, show_progress_bar=True)\n",
        "embed_pred = embed_model.encode(generated_captions, convert_to_numpy=True, show_progress_bar=True)\n",
        "\n"
      ]
    },
    {
      "cell_type": "markdown",
      "metadata": {
        "id": "PVaCAzEwmsFF"
      },
      "source": [
        "FGD Skoru hesapla"
      ]
    },
    {
      "cell_type": "code",
      "execution_count": null,
      "metadata": {
        "id": "szuEM7Ssmrs6"
      },
      "outputs": [],
      "source": [
        "score = calculate_fgd(embed_truth, embed_pred)\n",
        "print(f\"\\n\\n📉 FGD Skoru: {score:.4f} (daha düşük = daha iyi)\")"
      ]
    }
  ],
  "metadata": {
    "colab": {
      "provenance": [],
      "include_colab_link": true
    },
    "kernelspec": {
      "display_name": "Python 3",
      "name": "python3"
    },
    "language_info": {
      "name": "python"
    }
  },
  "nbformat": 4,
  "nbformat_minor": 0
}